{
  "cells": [
    {
      "cell_type": "code",
      "execution_count": 20,
      "metadata": {
        "colab": {
          "base_uri": "https://localhost:8080/"
        },
        "id": "ftj4YdSFEm9O",
        "outputId": "4334e7db-1fb9-4d60-e12c-ec19d6e98456"
      },
      "outputs": [
        {
          "output_type": "stream",
          "name": "stdout",
          "text": [
            "Archive:  /content/All Midi Files.zip\n",
            "   creating: All Midi Files/albeniz/\n",
            "  inflating: All Midi Files/albeniz/alb_esp1.mid  \n",
            "  inflating: All Midi Files/albeniz/alb_esp2.mid  \n",
            "  inflating: All Midi Files/albeniz/alb_esp3.mid  \n",
            "  inflating: All Midi Files/albeniz/alb_esp4.mid  \n",
            "  inflating: All Midi Files/albeniz/alb_esp5.mid  \n",
            "  inflating: All Midi Files/albeniz/alb_esp6.mid  \n",
            "  inflating: All Midi Files/albeniz/alb_se1.mid  \n",
            "  inflating: All Midi Files/albeniz/alb_se2.mid  \n",
            "  inflating: All Midi Files/albeniz/alb_se3.mid  \n",
            "  inflating: All Midi Files/albeniz/alb_se4.mid  \n",
            "  inflating: All Midi Files/albeniz/alb_se5.mid  \n",
            "  inflating: All Midi Files/albeniz/alb_se6.mid  \n",
            "  inflating: All Midi Files/albeniz/alb_se7.mid  \n",
            "  inflating: All Midi Files/albeniz/alb_se8.mid  \n",
            "   creating: All Midi Files/bach/\n",
            "  inflating: All Midi Files/bach/bach_846.mid  \n",
            "  inflating: All Midi Files/bach/bach_847.mid  \n",
            "  inflating: All Midi Files/bach/bach_850.mid  \n",
            "   creating: All Midi Files/balakir/\n",
            "  inflating: All Midi Files/balakir/islamei.mid  \n",
            "   creating: All Midi Files/beeth/\n",
            "  inflating: All Midi Files/beeth/appass_1.mid  \n",
            "  inflating: All Midi Files/beeth/appass_2.mid  \n",
            "  inflating: All Midi Files/beeth/appass_3.mid  \n",
            "  inflating: All Midi Files/beeth/beethoven_hammerklavier_1.mid  \n",
            "  inflating: All Midi Files/beeth/beethoven_hammerklavier_2.mid  \n",
            "  inflating: All Midi Files/beeth/beethoven_hammerklavier_3.mid  \n",
            "  inflating: All Midi Files/beeth/beethoven_hammerklavier_4.mid  \n",
            "  inflating: All Midi Files/beeth/beethoven_les_adieux_1.mid  \n",
            "  inflating: All Midi Files/beeth/beethoven_les_adieux_2.mid  \n",
            "  inflating: All Midi Files/beeth/beethoven_les_adieux_3.mid  \n",
            "  inflating: All Midi Files/beeth/beethoven_opus10_1.mid  \n",
            "  inflating: All Midi Files/beeth/beethoven_opus10_2.mid  \n",
            "  inflating: All Midi Files/beeth/beethoven_opus10_3.mid  \n",
            "  inflating: All Midi Files/beeth/beethoven_opus22_1.mid  \n",
            "  inflating: All Midi Files/beeth/beethoven_opus22_2.mid  \n",
            "  inflating: All Midi Files/beeth/beethoven_opus22_3.mid  \n",
            "  inflating: All Midi Files/beeth/beethoven_opus22_4.mid  \n",
            "  inflating: All Midi Files/beeth/beethoven_opus90_1.mid  \n",
            "  inflating: All Midi Files/beeth/beethoven_opus90_2.mid  \n",
            "  inflating: All Midi Files/beeth/elise.mid  \n",
            "  inflating: All Midi Files/beeth/mond_1.mid  \n",
            "  inflating: All Midi Files/beeth/mond_2.mid  \n",
            "  inflating: All Midi Files/beeth/mond_3.mid  \n",
            "  inflating: All Midi Files/beeth/pathetique_1.mid  \n",
            "  inflating: All Midi Files/beeth/pathetique_2.mid  \n",
            "  inflating: All Midi Files/beeth/pathetique_3.mid  \n",
            "  inflating: All Midi Files/beeth/waldstein_1.mid  \n",
            "  inflating: All Midi Files/beeth/waldstein_2.mid  \n",
            "  inflating: All Midi Files/beeth/waldstein_3.mid  \n",
            "   creating: All Midi Files/borodin/\n",
            "  inflating: All Midi Files/borodin/bor_ps1.mid  \n",
            "  inflating: All Midi Files/borodin/bor_ps2.mid  \n",
            "  inflating: All Midi Files/borodin/bor_ps3.mid  \n",
            "  inflating: All Midi Files/borodin/bor_ps4.mid  \n",
            "  inflating: All Midi Files/borodin/bor_ps5.mid  \n",
            "  inflating: All Midi Files/borodin/bor_ps6.mid  \n",
            "  inflating: All Midi Files/borodin/bor_ps7.mid  \n",
            "   creating: All Midi Files/brahms/\n",
            "  inflating: All Midi Files/brahms/br_im2.mid  \n",
            "  inflating: All Midi Files/brahms/br_im5.mid  \n",
            "  inflating: All Midi Files/brahms/BR_IM6.MID  \n",
            "  inflating: All Midi Files/brahms/br_rhap.mid  \n",
            "  inflating: All Midi Files/brahms/brahms_opus1_1.mid  \n",
            "  inflating: All Midi Files/brahms/brahms_opus1_2.mid  \n",
            "  inflating: All Midi Files/brahms/brahms_opus1_3.mid  \n",
            "  inflating: All Midi Files/brahms/brahms_opus1_4.mid  \n",
            "  inflating: All Midi Files/brahms/brahms_opus117_1.mid  \n",
            "  inflating: All Midi Files/brahms/brahms_opus117_2.mid  \n",
            "   creating: All Midi Files/burgm/\n",
            "  inflating: All Midi Files/burgm/burg_agitato.mid  \n",
            "  inflating: All Midi Files/burgm/burg_erwachen.mid  \n",
            "  inflating: All Midi Files/burgm/burg_geschwindigkeit.mid  \n",
            "  inflating: All Midi Files/burgm/burg_gewitter.mid  \n",
            "  inflating: All Midi Files/burgm/burg_perlen.mid  \n",
            "  inflating: All Midi Files/burgm/burg_quelle.mid  \n",
            "  inflating: All Midi Files/burgm/burg_spinnerlied.mid  \n",
            "  inflating: All Midi Files/burgm/burg_sylphen.mid  \n",
            "  inflating: All Midi Files/burgm/burg_trennung.mid  \n",
            "   creating: All Midi Files/chopin/\n",
            "  inflating: All Midi Files/chopin/chp_op18.mid  \n",
            "  inflating: All Midi Files/chopin/chp_op31.mid  \n",
            "  inflating: All Midi Files/chopin/chpn_op10_e01.mid  \n",
            "  inflating: All Midi Files/chopin/chpn_op10_e05.mid  \n",
            "  inflating: All Midi Files/chopin/chpn_op10_e12.mid  \n",
            "  inflating: All Midi Files/chopin/chpn_op23.mid  \n",
            "  inflating: All Midi Files/chopin/chpn_op25_e1.mid  \n",
            "  inflating: All Midi Files/chopin/chpn_op25_e11.mid  \n",
            "  inflating: All Midi Files/chopin/chpn_op25_e12.mid  \n",
            "  inflating: All Midi Files/chopin/chpn_op25_e2.mid  \n",
            "  inflating: All Midi Files/chopin/chpn_op25_e3.mid  \n",
            "  inflating: All Midi Files/chopin/chpn_op25_e4.mid  \n",
            "  inflating: All Midi Files/chopin/chpn_op27_1.mid  \n",
            "  inflating: All Midi Files/chopin/chpn_op27_2.mid  \n",
            "  inflating: All Midi Files/chopin/chpn_op33_2.mid  \n",
            "  inflating: All Midi Files/chopin/chpn_op33_4.mid  \n",
            "  inflating: All Midi Files/chopin/chpn_op35_1.mid  \n",
            "  inflating: All Midi Files/chopin/chpn_op35_2.mid  \n",
            "  inflating: All Midi Files/chopin/chpn_op35_3.mid  \n",
            "  inflating: All Midi Files/chopin/chpn_op35_4.mid  \n",
            "  inflating: All Midi Files/chopin/chpn_op53.mid  \n",
            "  inflating: All Midi Files/chopin/chpn_op66.mid  \n",
            "  inflating: All Midi Files/chopin/chpn_op7_1.mid  \n",
            "  inflating: All Midi Files/chopin/chpn_op7_2.mid  \n",
            "  inflating: All Midi Files/chopin/chpn-p1.mid  \n",
            "  inflating: All Midi Files/chopin/chpn-p10.mid  \n",
            "  inflating: All Midi Files/chopin/chpn-p11.mid  \n",
            "  inflating: All Midi Files/chopin/chpn-p12.mid  \n",
            "  inflating: All Midi Files/chopin/chpn-p13.mid  \n",
            "  inflating: All Midi Files/chopin/chpn-p14.mid  \n",
            "  inflating: All Midi Files/chopin/chpn-p15.mid  \n",
            "  inflating: All Midi Files/chopin/chpn-p16.mid  \n",
            "  inflating: All Midi Files/chopin/chpn-p17.mid  \n",
            "  inflating: All Midi Files/chopin/chpn-p18.mid  \n",
            "  inflating: All Midi Files/chopin/chpn-p19.mid  \n",
            "  inflating: All Midi Files/chopin/chpn-p2.mid  \n",
            "  inflating: All Midi Files/chopin/chpn-p20.mid  \n",
            "  inflating: All Midi Files/chopin/chpn-p21.mid  \n",
            "  inflating: All Midi Files/chopin/chpn-p22.mid  \n",
            "  inflating: All Midi Files/chopin/chpn-p23.mid  \n",
            "  inflating: All Midi Files/chopin/chpn-p24.mid  \n",
            "  inflating: All Midi Files/chopin/chpn-p3.mid  \n",
            "  inflating: All Midi Files/chopin/chpn-p4.mid  \n",
            "  inflating: All Midi Files/chopin/chpn-p5.mid  \n",
            "  inflating: All Midi Files/chopin/chpn-p6.mid  \n",
            "  inflating: All Midi Files/chopin/chpn-p7.mid  \n",
            "  inflating: All Midi Files/chopin/chpn-p8.mid  \n",
            "  inflating: All Midi Files/chopin/chpn-p9.mid  \n",
            "   creating: All Midi Files/debussy/\n",
            "  inflating: All Midi Files/debussy/DEB_CLAI.MID  \n",
            "  inflating: All Midi Files/debussy/deb_menu.mid  \n",
            "  inflating: All Midi Files/debussy/DEB_PASS.MID  \n",
            "  inflating: All Midi Files/debussy/deb_prel.mid  \n",
            "  inflating: All Midi Files/debussy/debussy_cc_1.mid  \n",
            "  inflating: All Midi Files/debussy/debussy_cc_2.mid  \n",
            "  inflating: All Midi Files/debussy/debussy_cc_3.mid  \n",
            "  inflating: All Midi Files/debussy/debussy_cc_4.mid  \n",
            "  inflating: All Midi Files/debussy/debussy_cc_6.mid  \n",
            "   creating: All Midi Files/granados/\n",
            "  inflating: All Midi Files/granados/gra_esp_2.mid  \n",
            "  inflating: All Midi Files/granados/gra_esp_3.mid  \n",
            "  inflating: All Midi Files/granados/gra_esp_4.mid  \n",
            "   creating: All Midi Files/grieg/\n",
            "  inflating: All Midi Files/grieg/grieg_album.mid  \n",
            "  inflating: All Midi Files/grieg/grieg_berceuse.mid  \n",
            "  inflating: All Midi Files/grieg/grieg_brooklet.mid  \n",
            "  inflating: All Midi Files/grieg/grieg_butterfly.mid  \n",
            "  inflating: All Midi Files/grieg/grieg_elfentanz.mid  \n",
            "  inflating: All Midi Files/grieg/grieg_halling.mid  \n",
            "  inflating: All Midi Files/grieg/grieg_kobold.mid  \n",
            "  inflating: All Midi Files/grieg/grieg_march.mid  \n",
            "  inflating: All Midi Files/grieg/grieg_once_upon_a_time.mid  \n",
            "  inflating: All Midi Files/grieg/grieg_spring.mid  \n",
            "  inflating: All Midi Files/grieg/grieg_voeglein.mid  \n",
            "  inflating: All Midi Files/grieg/grieg_waechter.mid  \n",
            "  inflating: All Midi Files/grieg/grieg_walzer.mid  \n",
            "  inflating: All Midi Files/grieg/grieg_wanderer.mid  \n",
            "  inflating: All Midi Files/grieg/grieg_wedding.mid  \n",
            "  inflating: All Midi Files/grieg/grieg_zwerge.mid  \n",
            "   creating: All Midi Files/haydn/\n",
            "  inflating: All Midi Files/haydn/hay_40_1.mid  \n",
            "  inflating: All Midi Files/haydn/hay_40_2.mid  \n",
            "  inflating: All Midi Files/haydn/haydn_33_1.mid  \n",
            "  inflating: All Midi Files/haydn/haydn_33_2.mid  \n",
            "  inflating: All Midi Files/haydn/haydn_33_3.mid  \n",
            "  inflating: All Midi Files/haydn/haydn_35_1.mid  \n",
            "  inflating: All Midi Files/haydn/haydn_35_2.mid  \n",
            "  inflating: All Midi Files/haydn/haydn_35_3.mid  \n",
            "  inflating: All Midi Files/haydn/haydn_43_1.mid  \n",
            "  inflating: All Midi Files/haydn/haydn_43_2.mid  \n",
            "  inflating: All Midi Files/haydn/haydn_43_3.mid  \n",
            "  inflating: All Midi Files/haydn/haydn_7_1.mid  \n",
            "  inflating: All Midi Files/haydn/haydn_7_2.mid  \n",
            "  inflating: All Midi Files/haydn/haydn_7_3.mid  \n",
            "  inflating: All Midi Files/haydn/haydn_8_1.mid  \n",
            "  inflating: All Midi Files/haydn/haydn_8_2.mid  \n",
            "  inflating: All Midi Files/haydn/haydn_8_3.mid  \n",
            "  inflating: All Midi Files/haydn/haydn_8_4.mid  \n",
            "  inflating: All Midi Files/haydn/haydn_9_1.mid  \n",
            "  inflating: All Midi Files/haydn/haydn_9_2.mid  \n",
            "  inflating: All Midi Files/haydn/haydn_9_3.mid  \n",
            "   creating: All Midi Files/liszt/\n",
            "  inflating: All Midi Files/liszt/liz_donjuan.mid  \n",
            "  inflating: All Midi Files/liszt/liz_et_trans4.mid  \n",
            "  inflating: All Midi Files/liszt/liz_et_trans5.mid  \n",
            "  inflating: All Midi Files/liszt/liz_et_trans8.mid  \n",
            "  inflating: All Midi Files/liszt/liz_et1.mid  \n",
            "  inflating: All Midi Files/liszt/liz_et2.mid  \n",
            "  inflating: All Midi Files/liszt/liz_et3.mid  \n",
            "  inflating: All Midi Files/liszt/liz_et4.mid  \n",
            "  inflating: All Midi Files/liszt/liz_et5.mid  \n",
            "  inflating: All Midi Files/liszt/liz_et6.mid  \n",
            "  inflating: All Midi Files/liszt/liz_liebestraum.mid  \n",
            "  inflating: All Midi Files/liszt/liz_rhap02.mid  \n",
            "  inflating: All Midi Files/liszt/liz_rhap09.mid  \n",
            "  inflating: All Midi Files/liszt/liz_rhap10.mid  \n",
            "  inflating: All Midi Files/liszt/liz_rhap12.mid  \n",
            "  inflating: All Midi Files/liszt/liz_rhap15.mid  \n",
            "   creating: All Midi Files/mendelssohn/\n",
            "  inflating: All Midi Files/mendelssohn/mendel_op19_1.mid  \n",
            "  inflating: All Midi Files/mendelssohn/mendel_op19_2.mid  \n",
            "  inflating: All Midi Files/mendelssohn/mendel_op19_3.mid  \n",
            "  inflating: All Midi Files/mendelssohn/mendel_op19_4.mid  \n",
            "  inflating: All Midi Files/mendelssohn/mendel_op19_5.mid  \n",
            "  inflating: All Midi Files/mendelssohn/mendel_op19_6.mid  \n",
            "  inflating: All Midi Files/mendelssohn/mendel_op30_1.mid  \n",
            "  inflating: All Midi Files/mendelssohn/mendel_op30_2.mid  \n",
            "  inflating: All Midi Files/mendelssohn/mendel_op30_3.mid  \n",
            "  inflating: All Midi Files/mendelssohn/mendel_op30_4.mid  \n",
            "  inflating: All Midi Files/mendelssohn/mendel_op30_5.mid  \n",
            "  inflating: All Midi Files/mendelssohn/mendel_op53_5.mid  \n",
            "  inflating: All Midi Files/mendelssohn/mendel_op62_3.mid  \n",
            "  inflating: All Midi Files/mendelssohn/mendel_op62_4.mid  \n",
            "  inflating: All Midi Files/mendelssohn/mendel_op62_5.mid  \n",
            "   creating: All Midi Files/mozart/\n",
            "  inflating: All Midi Files/mozart/mz_311_1.mid  \n",
            "  inflating: All Midi Files/mozart/mz_311_2.mid  \n",
            "  inflating: All Midi Files/mozart/mz_311_3.mid  \n",
            "  inflating: All Midi Files/mozart/mz_330_1.mid  \n",
            "  inflating: All Midi Files/mozart/mz_330_2.mid  \n",
            "  inflating: All Midi Files/mozart/mz_330_3.mid  \n",
            "  inflating: All Midi Files/mozart/mz_331_1.mid  \n",
            "  inflating: All Midi Files/mozart/mz_331_2.mid  \n",
            "  inflating: All Midi Files/mozart/mz_331_3.mid  \n",
            "  inflating: All Midi Files/mozart/mz_332_1.mid  \n",
            "  inflating: All Midi Files/mozart/mz_332_2.mid  \n",
            "  inflating: All Midi Files/mozart/mz_332_3.mid  \n",
            "  inflating: All Midi Files/mozart/mz_333_1.mid  \n",
            "  inflating: All Midi Files/mozart/mz_333_2.mid  \n",
            "  inflating: All Midi Files/mozart/mz_333_3.mid  \n",
            "  inflating: All Midi Files/mozart/mz_545_1.mid  \n",
            "  inflating: All Midi Files/mozart/mz_545_2.mid  \n",
            "  inflating: All Midi Files/mozart/mz_545_3.mid  \n",
            "  inflating: All Midi Files/mozart/mz_570_1.mid  \n",
            "  inflating: All Midi Files/mozart/mz_570_2.mid  \n",
            "  inflating: All Midi Files/mozart/mz_570_3.mid  \n",
            "   creating: All Midi Files/muss/\n",
            "  inflating: All Midi Files/muss/muss_1.mid  \n",
            "  inflating: All Midi Files/muss/muss_2.mid  \n",
            "  inflating: All Midi Files/muss/muss_3.mid  \n",
            "  inflating: All Midi Files/muss/muss_4.mid  \n",
            "  inflating: All Midi Files/muss/muss_5.mid  \n",
            "  inflating: All Midi Files/muss/muss_6.mid  \n",
            "  inflating: All Midi Files/muss/muss_7.mid  \n",
            "  inflating: All Midi Files/muss/muss_8.mid  \n",
            "   creating: All Midi Files/schubert/\n",
            "  inflating: All Midi Files/schubert/schu_143_1.mid  \n",
            "  inflating: All Midi Files/schubert/schu_143_2.mid  \n",
            "  inflating: All Midi Files/schubert/schu_143_3.mid  \n",
            "  inflating: All Midi Files/schubert/schub_d760_1.mid  \n",
            "  inflating: All Midi Files/schubert/schub_d760_2.mid  \n",
            "  inflating: All Midi Files/schubert/schub_d760_3.mid  \n",
            "  inflating: All Midi Files/schubert/schub_d760_4.mid  \n",
            "  inflating: All Midi Files/schubert/schub_d960_1.mid  \n",
            "  inflating: All Midi Files/schubert/schub_d960_2.mid  \n",
            "  inflating: All Midi Files/schubert/schub_d960_3.mid  \n",
            "  inflating: All Midi Files/schubert/schub_d960_4.mid  \n",
            "  inflating: All Midi Files/schubert/schubert_D850_1.mid  \n",
            "  inflating: All Midi Files/schubert/schubert_D850_2.mid  \n",
            "  inflating: All Midi Files/schubert/schubert_D850_3.mid  \n",
            "  inflating: All Midi Files/schubert/schubert_D850_4.mid  \n",
            "  inflating: All Midi Files/schubert/schubert_D935_1.mid  \n",
            "  inflating: All Midi Files/schubert/schubert_D935_2.mid  \n",
            "  inflating: All Midi Files/schubert/schubert_D935_3.mid  \n",
            "  inflating: All Midi Files/schubert/schubert_D935_4.mid  \n",
            "  inflating: All Midi Files/schubert/schuim-1.mid  \n",
            "  inflating: All Midi Files/schubert/schuim-2.mid  \n",
            "  inflating: All Midi Files/schubert/schuim-3.mid  \n",
            "  inflating: All Midi Files/schubert/schuim-4.mid  \n",
            "  inflating: All Midi Files/schubert/schumm-1.mid  \n",
            "  inflating: All Midi Files/schubert/schumm-2.mid  \n",
            "  inflating: All Midi Files/schubert/schumm-3.mid  \n",
            "  inflating: All Midi Files/schubert/schumm-4.mid  \n",
            "  inflating: All Midi Files/schubert/schumm-5.mid  \n",
            "  inflating: All Midi Files/schubert/schumm-6.mid  \n",
            "   creating: All Midi Files/schumann/\n",
            "  inflating: All Midi Files/schumann/schum_abegg.mid  \n",
            "  inflating: All Midi Files/schumann/scn15_1.mid  \n",
            "  inflating: All Midi Files/schumann/scn15_10.mid  \n",
            "  inflating: All Midi Files/schumann/scn15_11.mid  \n",
            "  inflating: All Midi Files/schumann/scn15_12.mid  \n",
            "  inflating: All Midi Files/schumann/scn15_13.mid  \n",
            "  inflating: All Midi Files/schumann/scn15_2.mid  \n",
            "  inflating: All Midi Files/schumann/scn15_3.mid  \n",
            "  inflating: All Midi Files/schumann/scn15_4.mid  \n",
            "  inflating: All Midi Files/schumann/scn15_5.mid  \n",
            "  inflating: All Midi Files/schumann/scn15_6.mid  \n",
            "  inflating: All Midi Files/schumann/scn15_7.mid  \n",
            "  inflating: All Midi Files/schumann/scn15_8.mid  \n",
            "  inflating: All Midi Files/schumann/scn15_9.mid  \n",
            "  inflating: All Midi Files/schumann/scn16_1.mid  \n",
            "  inflating: All Midi Files/schumann/scn16_2.mid  \n",
            "  inflating: All Midi Files/schumann/scn16_3.mid  \n",
            "  inflating: All Midi Files/schumann/scn16_4.mid  \n",
            "  inflating: All Midi Files/schumann/scn16_5.mid  \n",
            "  inflating: All Midi Files/schumann/scn16_6.mid  \n",
            "  inflating: All Midi Files/schumann/scn16_7.mid  \n",
            "  inflating: All Midi Files/schumann/scn16_8.mid  \n",
            "  inflating: All Midi Files/schumann/scn68_10.mid  \n",
            "  inflating: All Midi Files/schumann/scn68_12.mid  \n",
            "   creating: All Midi Files/tschai/\n",
            "  inflating: All Midi Files/tschai/ty_april.mid  \n",
            "  inflating: All Midi Files/tschai/ty_august.mid  \n",
            "  inflating: All Midi Files/tschai/ty_dezember.mid  \n",
            "  inflating: All Midi Files/tschai/ty_februar.mid  \n",
            "  inflating: All Midi Files/tschai/ty_januar.mid  \n",
            "  inflating: All Midi Files/tschai/ty_juli.mid  \n",
            "  inflating: All Midi Files/tschai/ty_juni.mid  \n",
            "  inflating: All Midi Files/tschai/ty_maerz.mid  \n",
            "  inflating: All Midi Files/tschai/ty_mai.mid  \n",
            "  inflating: All Midi Files/tschai/ty_november.mid  \n",
            "  inflating: All Midi Files/tschai/ty_oktober.mid  \n",
            "  inflating: All Midi Files/tschai/ty_september.mid  \n"
          ]
        }
      ],
      "source": [
        "! unzip '/content/All Midi Files.zip' #unzipping file"
      ]
    },
    {
      "cell_type": "markdown",
      "metadata": {
        "id": "uH0-xf4rBrlg"
      },
      "source": [
        "# Importing"
      ]
    },
    {
      "cell_type": "code",
      "execution_count": 21,
      "metadata": {
        "id": "N_Yu4Zp6AiFz"
      },
      "outputs": [],
      "source": [
        "from music21 import *\n",
        "import glob\n",
        "from tqdm import tqdm\n",
        "import numpy as np\n",
        "import random\n",
        "import matplotlib.pyplot as plt\n",
        "import seaborn as sns\n",
        "import pandas as pd\n",
        "from sklearn.model_selection import train_test_split"
      ]
    },
    {
      "cell_type": "code",
      "execution_count": 22,
      "metadata": {
        "id": "uhGmepG1Avxe"
      },
      "outputs": [],
      "source": [
        "import torch\n",
        "import torch.nn as nn\n",
        "import torch.optim as optim\n",
        "import os"
      ]
    },
    {
      "cell_type": "code",
      "execution_count": 23,
      "metadata": {
        "id": "rFH6sc8BDAKf"
      },
      "outputs": [],
      "source": [
        "from tensorflow.keras.layers import LSTM,Dense,Input,Dropout\n",
        "from tensorflow.keras.models import Sequential,Model,load_model "
      ]
    },
    {
      "cell_type": "code",
      "execution_count": 24,
      "metadata": {
        "id": "oFevXH8wDFks"
      },
      "outputs": [],
      "source": [
        "import tensorflow as tf\n"
      ]
    },
    {
      "cell_type": "markdown",
      "metadata": {
        "id": "k1p4DHf3CHQ4"
      },
      "source": [
        "# Data Preprocssing"
      ]
    },
    {
      "cell_type": "code",
      "execution_count": 25,
      "metadata": {
        "id": "Zh27WPzUCJJL",
        "colab": {
          "base_uri": "https://localhost:8080/"
        },
        "outputId": "b7a69542-973f-45f8-8c5e-c676653426b7"
      },
      "outputs": [
        {
          "output_type": "stream",
          "name": "stderr",
          "text": [
            "/usr/local/lib/python3.7/dist-packages/ipykernel_launcher.py:21: VisibleDeprecationWarning: Creating an ndarray from ragged nested sequences (which is a list-or-tuple of lists-or-tuples-or ndarrays with different lengths or shapes) is deprecated. If you meant to do this, you must specify 'dtype=object' when creating the ndarray.\n"
          ]
        }
      ],
      "source": [
        "def file_reader(file_path):\n",
        "    notes=[]\n",
        "    notes_to_parse=None\n",
        "    #parse the midi file\n",
        "    midi=converter.parse(file_path)\n",
        "    #seperate all instruments from the file\n",
        "    instrmt=instrument.partitionByInstrument(midi)\n",
        "    for part in instrmt.parts:\n",
        "        #fetch data only of Piano instrument\n",
        "        if 'Piano' in str(part):\n",
        "            notes_to_parse=part.recurse()\n",
        "            for element in notes_to_parse:\n",
        "                if type(element)==note.Note:\n",
        "                    notes.append(str(element.pitch))\n",
        "                elif type(element)==chord.Chord:\n",
        "                    notes.append('.'.join(str(n) for n in element.normalOrder))\n",
        "    return notes\n",
        "#retrieve paths recursively from inside the directories/files\n",
        "file_path=['haydn','grieg'] \n",
        "all_files=glob.glob('/content/All Midi Files/'+file_path[0]+'/*.mid',recursive=True)\n",
        "notes_array = np.array([file_reader(i) for i in all_files])"
      ]
    },
    {
      "cell_type": "code",
      "execution_count": 26,
      "metadata": {
        "colab": {
          "base_uri": "https://localhost:8080/"
        },
        "id": "7O8dQvr9CJ57",
        "outputId": "e65a2ba0-efc0-44e7-ca7e-4c32172eabe9"
      },
      "outputs": [
        {
          "output_type": "stream",
          "name": "stdout",
          "text": [
            "Unique Notes: 155\n",
            "\n",
            "Frequency notes\n",
            "30 : 76\n",
            "50 : 64\n",
            "70 : 56\n",
            "90 : 48\n"
          ]
        }
      ],
      "source": [
        "#unique notes\n",
        "notess = sum(notes_array,[]) \n",
        "unique_notes = list(set(notess))\n",
        "print(\"Unique Notes:\",len(unique_notes))\n",
        "\n",
        "#notes with their frequency\n",
        "freq=dict(map(lambda x: (x,notess.count(x)),unique_notes))\n",
        "\n",
        "#get the threshold frequency\n",
        "print(\"\\nFrequency notes\")\n",
        "for i in range(30,100,20):\n",
        "  print(i,\":\",len(list(filter(lambda x:x[1]>=i,freq.items()))))\n",
        "\n",
        "#filter notes greater than threshold i.e. 50\n",
        "freq_notes=dict(filter(lambda x:x[1]>=50,freq.items()))\n",
        "\n",
        "#create new notes using the frequent notes\n",
        "new_notes=[[i for i in j if i in freq_notes] for j in notes_array]\n",
        "\n",
        "#dictionary having key as note index and value as note\n",
        "ind2note=dict(enumerate(freq_notes))\n",
        "\n",
        "#dictionary having key as note and value as note index\n",
        "note2ind=dict(map(reversed,ind2note.items()))"
      ]
    },
    {
      "cell_type": "code",
      "execution_count": 27,
      "metadata": {
        "id": "ba2dmtZwCM8T"
      },
      "outputs": [],
      "source": [
        "timesteps=50\n",
        "\n",
        "#store values of input and output\n",
        "x=[] ; y=[]\n",
        "\n",
        "for i in new_notes:\n",
        "  for j in range(0,len(i)-timesteps):\n",
        "    #input will be the current index + timestep\n",
        "    #output will be the next index after timestep\n",
        "    inp=i[j:j+timesteps] ; out=i[j+timesteps]\n",
        "\n",
        "    #append the index value of respective notes \n",
        "    x.append(list(map(lambda x:note2ind[x],inp)))\n",
        "    y.append(note2ind[out])\n",
        "\n",
        "x_new=np.array(x) \n",
        "y_new=np.array(y)"
      ]
    },
    {
      "cell_type": "code",
      "execution_count": 28,
      "metadata": {
        "id": "TNPfGwdFCbzM"
      },
      "outputs": [],
      "source": [
        "#reshape input and output for the model\n",
        "x_new = np.reshape(x_new,(len(x_new),timesteps,1))\n",
        "y_new = np.reshape(y_new,(-1,1))\n",
        "\n",
        "#split the input and value into training and testing sets\n",
        "x_train,x_test,y_train,y_test = train_test_split(x_new,y_new,test_size=0.2,random_state=42)"
      ]
    },
    {
      "cell_type": "code",
      "execution_count": 29,
      "metadata": {
        "id": "sjEBsp7tVi0W",
        "colab": {
          "base_uri": "https://localhost:8080/"
        },
        "outputId": "f601ad1a-4904-4cd2-edbf-74dee9d7526f"
      },
      "outputs": [
        {
          "output_type": "execute_result",
          "data": {
            "text/plain": [
              "(20313, 50, 1)"
            ]
          },
          "metadata": {},
          "execution_count": 29
        }
      ],
      "source": [
        "x_train.shape"
      ]
    },
    {
      "cell_type": "markdown",
      "metadata": {
        "id": "Y_XkwC8A_SAQ"
      },
      "source": [
        "# Model Buiding"
      ]
    },
    {
      "cell_type": "code",
      "execution_count": 30,
      "metadata": {
        "id": "eml2mPw3C4L6",
        "colab": {
          "base_uri": "https://localhost:8080/"
        },
        "outputId": "52314557-af4b-4326-a892-f3f4fc356b82"
      },
      "outputs": [
        {
          "output_type": "stream",
          "name": "stdout",
          "text": [
            "Num GPUs Available:  1\n"
          ]
        }
      ],
      "source": [
        "print(\"Num GPUs Available: \", len(tf.config.experimental.list_physical_devices('GPU')))"
      ]
    },
    {
      "cell_type": "code",
      "execution_count": 31,
      "metadata": {
        "id": "3QyldODlGq7B"
      },
      "outputs": [],
      "source": [
        "import tensorflow as tf"
      ]
    },
    {
      "cell_type": "code",
      "execution_count": 32,
      "metadata": {
        "id": "mKi1Cs3hFS63"
      },
      "outputs": [],
      "source": [
        "config = tf.compat.v1.ConfigProto()\n",
        "config.gpu_options.allow_growth=True\n",
        "sess = tf.compat.v1.Session(config=config)"
      ]
    },
    {
      "cell_type": "code",
      "execution_count": 33,
      "metadata": {
        "id": "7nYzb6TyF4rt",
        "colab": {
          "base_uri": "https://localhost:8080/"
        },
        "outputId": "f2174494-3ee7-44f8-c53f-4950cd5b4848"
      },
      "outputs": [
        {
          "output_type": "stream",
          "name": "stdout",
          "text": [
            "Model: \"sequential\"\n",
            "_________________________________________________________________\n",
            " Layer (type)                Output Shape              Param #   \n",
            "=================================================================\n",
            " lstm (LSTM)                 (None, 50, 300)           362400    \n",
            "                                                                 \n",
            " dropout (Dropout)           (None, 50, 300)           0         \n",
            "                                                                 \n",
            " lstm_1 (LSTM)               (None, 300)               721200    \n",
            "                                                                 \n",
            " dropout_1 (Dropout)         (None, 300)               0         \n",
            "                                                                 \n",
            " dense (Dense)               (None, 300)               90300     \n",
            "                                                                 \n",
            " dense_1 (Dense)             (None, 64)                19264     \n",
            "                                                                 \n",
            "=================================================================\n",
            "Total params: 1,193,164\n",
            "Trainable params: 1,193,164\n",
            "Non-trainable params: 0\n",
            "_________________________________________________________________\n"
          ]
        }
      ],
      "source": [
        "#create the model\n",
        "model = Sequential()\n",
        "#create two stacked LSTM layer with the latent dimension of 256\n",
        "model.add(LSTM(300,return_sequences=True,input_shape=(x_new.shape[1],x_new.shape[2])))\n",
        "model.add(Dropout(0.22))\n",
        "model.add(LSTM(300))\n",
        "model.add(Dropout(0.22))\n",
        "model.add(Dense(300,activation='relu'))\n",
        "\n",
        "#fully connected layer for the output with softmax activation\n",
        "model.add(Dense(len(note2ind),activation='softmax'))\n",
        "model.summary()"
      ]
    },
    {
      "cell_type": "code",
      "execution_count": 34,
      "metadata": {
        "id": "YvUjxXX9HFIG",
        "colab": {
          "base_uri": "https://localhost:8080/"
        },
        "outputId": "70497f6d-5274-4516-bb8b-87848824c456"
      },
      "outputs": [
        {
          "output_type": "stream",
          "name": "stdout",
          "text": [
            "Epoch 1/60\n",
            "204/204 [==============================] - 12s 24ms/step - loss: 3.7554 - accuracy: 0.0633 - val_loss: 3.6963 - val_accuracy: 0.0772\n",
            "Epoch 2/60\n",
            "204/204 [==============================] - 4s 20ms/step - loss: 3.6316 - accuracy: 0.0854 - val_loss: 3.5540 - val_accuracy: 0.0982\n",
            "Epoch 3/60\n",
            "204/204 [==============================] - 4s 20ms/step - loss: 3.4753 - accuracy: 0.1120 - val_loss: 3.4096 - val_accuracy: 0.1134\n",
            "Epoch 4/60\n",
            "204/204 [==============================] - 4s 20ms/step - loss: 3.3474 - accuracy: 0.1336 - val_loss: 3.2945 - val_accuracy: 0.1433\n",
            "Epoch 5/60\n",
            "204/204 [==============================] - 4s 20ms/step - loss: 3.1837 - accuracy: 0.1596 - val_loss: 3.2138 - val_accuracy: 0.1603\n",
            "Epoch 6/60\n",
            "204/204 [==============================] - 4s 20ms/step - loss: 3.0212 - accuracy: 0.1957 - val_loss: 3.0043 - val_accuracy: 0.1993\n",
            "Epoch 7/60\n",
            "204/204 [==============================] - 4s 20ms/step - loss: 2.8137 - accuracy: 0.2358 - val_loss: 2.8668 - val_accuracy: 0.2345\n",
            "Epoch 8/60\n",
            "204/204 [==============================] - 4s 20ms/step - loss: 2.6164 - accuracy: 0.2816 - val_loss: 2.7364 - val_accuracy: 0.2577\n",
            "Epoch 9/60\n",
            "204/204 [==============================] - 4s 20ms/step - loss: 2.4090 - accuracy: 0.3272 - val_loss: 2.5922 - val_accuracy: 0.2995\n",
            "Epoch 10/60\n",
            "204/204 [==============================] - 4s 20ms/step - loss: 2.2063 - accuracy: 0.3761 - val_loss: 2.4587 - val_accuracy: 0.3323\n",
            "Epoch 11/60\n",
            "204/204 [==============================] - 4s 20ms/step - loss: 2.0174 - accuracy: 0.4262 - val_loss: 2.3443 - val_accuracy: 0.3668\n",
            "Epoch 12/60\n",
            "204/204 [==============================] - 4s 21ms/step - loss: 1.8283 - accuracy: 0.4759 - val_loss: 2.2494 - val_accuracy: 0.3950\n",
            "Epoch 13/60\n",
            "204/204 [==============================] - 4s 20ms/step - loss: 1.6665 - accuracy: 0.5131 - val_loss: 2.1757 - val_accuracy: 0.4135\n",
            "Epoch 14/60\n",
            "204/204 [==============================] - 4s 21ms/step - loss: 1.5155 - accuracy: 0.5541 - val_loss: 2.1161 - val_accuracy: 0.4519\n",
            "Epoch 15/60\n",
            "204/204 [==============================] - 4s 21ms/step - loss: 1.3683 - accuracy: 0.5925 - val_loss: 2.0029 - val_accuracy: 0.4853\n",
            "Epoch 16/60\n",
            "204/204 [==============================] - 4s 21ms/step - loss: 1.2439 - accuracy: 0.6307 - val_loss: 1.9371 - val_accuracy: 0.5139\n",
            "Epoch 17/60\n",
            "204/204 [==============================] - 4s 21ms/step - loss: 1.1272 - accuracy: 0.6649 - val_loss: 1.9040 - val_accuracy: 0.5365\n",
            "Epoch 18/60\n",
            "204/204 [==============================] - 4s 21ms/step - loss: 1.0189 - accuracy: 0.6912 - val_loss: 1.8737 - val_accuracy: 0.5621\n",
            "Epoch 19/60\n",
            "204/204 [==============================] - 4s 21ms/step - loss: 0.9252 - accuracy: 0.7205 - val_loss: 1.8316 - val_accuracy: 0.5676\n",
            "Epoch 20/60\n",
            "204/204 [==============================] - 4s 21ms/step - loss: 0.8501 - accuracy: 0.7416 - val_loss: 1.7817 - val_accuracy: 0.5960\n",
            "Epoch 21/60\n",
            "204/204 [==============================] - 4s 21ms/step - loss: 0.7763 - accuracy: 0.7638 - val_loss: 1.7622 - val_accuracy: 0.6090\n",
            "Epoch 22/60\n",
            "204/204 [==============================] - 4s 21ms/step - loss: 0.7099 - accuracy: 0.7854 - val_loss: 1.7347 - val_accuracy: 0.6261\n",
            "Epoch 23/60\n",
            "204/204 [==============================] - 4s 21ms/step - loss: 0.6651 - accuracy: 0.7957 - val_loss: 1.7639 - val_accuracy: 0.6275\n",
            "Epoch 24/60\n",
            "204/204 [==============================] - 4s 21ms/step - loss: 0.6068 - accuracy: 0.8108 - val_loss: 1.7552 - val_accuracy: 0.6450\n",
            "Epoch 25/60\n",
            "204/204 [==============================] - 4s 21ms/step - loss: 0.5629 - accuracy: 0.8235 - val_loss: 1.7412 - val_accuracy: 0.6547\n",
            "Epoch 26/60\n",
            "204/204 [==============================] - 4s 21ms/step - loss: 0.5177 - accuracy: 0.8386 - val_loss: 1.7480 - val_accuracy: 0.6596\n",
            "Epoch 27/60\n",
            "204/204 [==============================] - 4s 21ms/step - loss: 0.4693 - accuracy: 0.8511 - val_loss: 1.7777 - val_accuracy: 0.6649\n",
            "Epoch 28/60\n",
            "204/204 [==============================] - 4s 21ms/step - loss: 0.4644 - accuracy: 0.8549 - val_loss: 1.7547 - val_accuracy: 0.6777\n",
            "Epoch 29/60\n",
            "204/204 [==============================] - 4s 21ms/step - loss: 0.4261 - accuracy: 0.8655 - val_loss: 1.7615 - val_accuracy: 0.6842\n",
            "Epoch 30/60\n",
            "204/204 [==============================] - 4s 21ms/step - loss: 0.4061 - accuracy: 0.8711 - val_loss: 1.7768 - val_accuracy: 0.6875\n",
            "Epoch 31/60\n",
            "204/204 [==============================] - 4s 21ms/step - loss: 0.3768 - accuracy: 0.8790 - val_loss: 1.7979 - val_accuracy: 0.6917\n",
            "Epoch 32/60\n",
            "204/204 [==============================] - 4s 21ms/step - loss: 0.3573 - accuracy: 0.8898 - val_loss: 1.7701 - val_accuracy: 0.6978\n",
            "Epoch 33/60\n",
            "204/204 [==============================] - 4s 21ms/step - loss: 0.3392 - accuracy: 0.8918 - val_loss: 1.7835 - val_accuracy: 0.6990\n",
            "Epoch 34/60\n",
            "204/204 [==============================] - 4s 21ms/step - loss: 0.3388 - accuracy: 0.8914 - val_loss: 1.8200 - val_accuracy: 0.7007\n",
            "Epoch 35/60\n",
            "204/204 [==============================] - 4s 21ms/step - loss: 0.3180 - accuracy: 0.8962 - val_loss: 1.8131 - val_accuracy: 0.7070\n",
            "Epoch 36/60\n",
            "204/204 [==============================] - 4s 21ms/step - loss: 0.2874 - accuracy: 0.9096 - val_loss: 1.8399 - val_accuracy: 0.7110\n",
            "Epoch 37/60\n",
            "204/204 [==============================] - 4s 21ms/step - loss: 0.2820 - accuracy: 0.9112 - val_loss: 1.8594 - val_accuracy: 0.7060\n",
            "Epoch 38/60\n",
            "204/204 [==============================] - 4s 21ms/step - loss: 0.2778 - accuracy: 0.9110 - val_loss: 1.8779 - val_accuracy: 0.7072\n",
            "Epoch 39/60\n",
            "204/204 [==============================] - 4s 21ms/step - loss: 0.2703 - accuracy: 0.9154 - val_loss: 1.8757 - val_accuracy: 0.7116\n",
            "Epoch 40/60\n",
            "204/204 [==============================] - 4s 21ms/step - loss: 0.2706 - accuracy: 0.9161 - val_loss: 1.9010 - val_accuracy: 0.7070\n",
            "Epoch 41/60\n",
            "204/204 [==============================] - 4s 21ms/step - loss: 0.2510 - accuracy: 0.9188 - val_loss: 1.8919 - val_accuracy: 0.7167\n",
            "Epoch 42/60\n",
            "204/204 [==============================] - 4s 21ms/step - loss: 0.2401 - accuracy: 0.9232 - val_loss: 1.9366 - val_accuracy: 0.7173\n",
            "Epoch 43/60\n",
            "204/204 [==============================] - 4s 21ms/step - loss: 0.2402 - accuracy: 0.9245 - val_loss: 1.9480 - val_accuracy: 0.7141\n",
            "Epoch 44/60\n",
            "204/204 [==============================] - 4s 21ms/step - loss: 0.2264 - accuracy: 0.9286 - val_loss: 1.9822 - val_accuracy: 0.7151\n",
            "Epoch 45/60\n",
            "204/204 [==============================] - 4s 21ms/step - loss: 0.2397 - accuracy: 0.9210 - val_loss: 1.9868 - val_accuracy: 0.7143\n",
            "Epoch 46/60\n",
            "204/204 [==============================] - 4s 21ms/step - loss: 0.2294 - accuracy: 0.9277 - val_loss: 1.9540 - val_accuracy: 0.7216\n",
            "Epoch 47/60\n",
            "204/204 [==============================] - 4s 21ms/step - loss: 0.2073 - accuracy: 0.9335 - val_loss: 1.9920 - val_accuracy: 0.7167\n",
            "Epoch 48/60\n",
            "204/204 [==============================] - 4s 21ms/step - loss: 0.2270 - accuracy: 0.9288 - val_loss: 2.0183 - val_accuracy: 0.7194\n",
            "Epoch 49/60\n",
            "204/204 [==============================] - 4s 21ms/step - loss: 0.2164 - accuracy: 0.9325 - val_loss: 1.9843 - val_accuracy: 0.7216\n",
            "Epoch 50/60\n",
            "204/204 [==============================] - 4s 21ms/step - loss: 0.2128 - accuracy: 0.9315 - val_loss: 1.9982 - val_accuracy: 0.7212\n",
            "Epoch 51/60\n",
            "204/204 [==============================] - 4s 21ms/step - loss: 0.1948 - accuracy: 0.9380 - val_loss: 2.0646 - val_accuracy: 0.7224\n",
            "Epoch 52/60\n",
            "204/204 [==============================] - 4s 21ms/step - loss: 0.1907 - accuracy: 0.9391 - val_loss: 2.0649 - val_accuracy: 0.7236\n",
            "Epoch 53/60\n",
            "204/204 [==============================] - 4s 21ms/step - loss: 0.1969 - accuracy: 0.9382 - val_loss: 2.0743 - val_accuracy: 0.7236\n",
            "Epoch 54/60\n",
            "204/204 [==============================] - 4s 21ms/step - loss: 0.1843 - accuracy: 0.9432 - val_loss: 2.0712 - val_accuracy: 0.7224\n",
            "Epoch 55/60\n",
            "204/204 [==============================] - 4s 21ms/step - loss: 0.1858 - accuracy: 0.9408 - val_loss: 2.0788 - val_accuracy: 0.7206\n",
            "Epoch 56/60\n",
            "204/204 [==============================] - 4s 21ms/step - loss: 0.1763 - accuracy: 0.9438 - val_loss: 2.0969 - val_accuracy: 0.7186\n",
            "Epoch 57/60\n",
            "204/204 [==============================] - 4s 21ms/step - loss: 0.1720 - accuracy: 0.9459 - val_loss: 2.0963 - val_accuracy: 0.7228\n",
            "Epoch 58/60\n",
            "204/204 [==============================] - 4s 21ms/step - loss: 0.1615 - accuracy: 0.9480 - val_loss: 2.1288 - val_accuracy: 0.7214\n",
            "Epoch 59/60\n",
            "204/204 [==============================] - 4s 21ms/step - loss: 0.1694 - accuracy: 0.9487 - val_loss: 2.1174 - val_accuracy: 0.7289\n",
            "Epoch 60/60\n",
            "204/204 [==============================] - 4s 21ms/step - loss: 0.1715 - accuracy: 0.9457 - val_loss: 2.1336 - val_accuracy: 0.7279\n"
          ]
        }
      ],
      "source": [
        "#compile the model using Adam optimizer\n",
        "model.compile(loss='sparse_categorical_crossentropy', optimizer='adam',metrics=['accuracy'])\n",
        "\n",
        "#train the model on training sets and validate on testing sets\n",
        "with tf.device('/gpu:0'):\n",
        "    model.fit(\n",
        "        x_train,y_train,\n",
        "        batch_size=100,epochs=60, \n",
        "        validation_data=(x_test,y_test))"
      ]
    },
    {
      "cell_type": "code",
      "execution_count": 35,
      "metadata": {
        "id": "wItEv4xjHPvv",
        "colab": {
          "base_uri": "https://localhost:8080/"
        },
        "outputId": "44966c6f-0c30-4a07-b911-33184bcaa6ea"
      },
      "outputs": [
        {
          "output_type": "stream",
          "name": "stderr",
          "text": [
            "WARNING:absl:Found untraced functions such as lstm_cell_layer_call_fn, lstm_cell_layer_call_and_return_conditional_losses, lstm_cell_1_layer_call_fn, lstm_cell_1_layer_call_and_return_conditional_losses while saving (showing 4 of 4). These functions will not be directly callable after loading.\n"
          ]
        },
        {
          "output_type": "stream",
          "name": "stdout",
          "text": [
            "INFO:tensorflow:Assets written to: Model/assets\n"
          ]
        },
        {
          "output_type": "stream",
          "name": "stderr",
          "text": [
            "INFO:tensorflow:Assets written to: Model/assets\n",
            "WARNING:absl:<keras.layers.recurrent.LSTMCell object at 0x7f2a23347d50> has the same name 'LSTMCell' as a built-in Keras object. Consider renaming <class 'keras.layers.recurrent.LSTMCell'> to avoid naming conflicts when loading with `tf.keras.models.load_model`. If renaming is not possible, pass the object in the `custom_objects` parameter of the load function.\n",
            "WARNING:absl:<keras.layers.recurrent.LSTMCell object at 0x7f2a21e5e890> has the same name 'LSTMCell' as a built-in Keras object. Consider renaming <class 'keras.layers.recurrent.LSTMCell'> to avoid naming conflicts when loading with `tf.keras.models.load_model`. If renaming is not possible, pass the object in the `custom_objects` parameter of the load function.\n"
          ]
        }
      ],
      "source": [
        "model.save(\"Model\")"
      ]
    },
    {
      "cell_type": "code",
      "execution_count": 36,
      "metadata": {
        "id": "HDFEVFYtMJEN"
      },
      "outputs": [],
      "source": [
        "model=load_model(\"Model\")\n",
        "#generate random index\n",
        "index = np.random.randint(0,len(x_test)-1)\n",
        "#get the data of generated index from x_test\n",
        "music_pattern = x_test[index]\n",
        "\n",
        "out_pred=[] #it will store predicted notes\n",
        "\n",
        "#iterate till 200 note is generated\n",
        "for i in range(200):\n",
        "\n",
        "  #reshape the music pattern \n",
        "  music_pattern = music_pattern.reshape(1,len(music_pattern),1)\n",
        "  \n",
        "  #get the maximum probability value from the predicted output\n",
        "  pred_index = np.argmax(model.predict(music_pattern))\n",
        "  #get the note using predicted index and\n",
        "  #append to the output prediction list\n",
        "  out_pred.append(ind2note[pred_index])\n",
        "  music_pattern = np.append(music_pattern,pred_index)\n",
        "  \n",
        "  #update the music pattern with one timestep ahead\n",
        "  music_pattern = music_pattern[1:]"
      ]
    },
    {
      "cell_type": "code",
      "execution_count": 37,
      "metadata": {
        "id": "2SxRyyABMN_f",
        "colab": {
          "base_uri": "https://localhost:8080/",
          "height": 36
        },
        "outputId": "2d6bbc13-d048-4e69-f78f-07c8145caa81"
      },
      "outputs": [
        {
          "output_type": "execute_result",
          "data": {
            "text/plain": [
              "'AI_music.mid'"
            ],
            "application/vnd.google.colaboratory.intrinsic+json": {
              "type": "string"
            }
          },
          "metadata": {},
          "execution_count": 37
        }
      ],
      "source": [
        "output_notes = []\n",
        "for offset,pattern in enumerate(out_pred):\n",
        "  #if pattern is a chord instance\n",
        "  if ('.' in pattern) or pattern.isdigit():\n",
        "    #split notes from the chord\n",
        "    notes_in_chord = pattern.split('.')\n",
        "    notes = []\n",
        "    for current_note in notes_in_chord:\n",
        "        i_curr_note=int(current_note)\n",
        "        #cast the current note to Note object and\n",
        "        #append the current note \n",
        "        new_note = note.Note(i_curr_note)\n",
        "        new_note.storedInstrument = instrument.Piano()\n",
        "        notes.append(new_note)\n",
        "    \n",
        "    #cast the current note to Chord object\n",
        "    #offset will be 1 step ahead from the previous note\n",
        "    #as it will prevent notes to stack up \n",
        "    new_chord = chord.Chord(notes)\n",
        "    new_chord.offset = offset\n",
        "    output_notes.append(new_chord)\n",
        "  \n",
        "  else:\n",
        "    #cast the pattern to Note object apply the offset and \n",
        "    #append the note\n",
        "    new_note = note.Note(pattern)\n",
        "    new_note.offset = offset\n",
        "    new_note.storedInstrument = instrument.Piano()\n",
        "    output_notes.append(new_note)\n",
        "\n",
        "#save the midi file \n",
        "midi_stream = stream.Stream(output_notes)\n",
        "midi_stream.write('midi', fp='AI_music.mid')"
      ]
    }
  ],
  "metadata": {
    "accelerator": "GPU",
    "colab": {
      "name": "Musify (2).ipynb",
      "provenance": []
    },
    "gpuClass": "standard",
    "kernelspec": {
      "display_name": "Python 3",
      "name": "python3"
    },
    "language_info": {
      "name": "python"
    }
  },
  "nbformat": 4,
  "nbformat_minor": 0
}